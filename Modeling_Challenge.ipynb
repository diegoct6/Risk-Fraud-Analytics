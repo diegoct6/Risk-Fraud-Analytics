{
 "cells": [
  {
   "cell_type": "markdown",
   "metadata": {},
   "source": [
    "## DIEGO CUARTAS\n",
    "Master in Business Analytics & Big Data - Risk & Fraud Analytics"
   ]
  },
  {
   "cell_type": "markdown",
   "metadata": {},
   "source": [
    "### Importing Libraries and Datasets"
   ]
  },
  {
   "cell_type": "code",
   "execution_count": 1,
   "metadata": {},
   "outputs": [],
   "source": [
    "import pandas as pd\n",
    "import numpy as np\n",
    "import requests\n",
    "import time\n",
    "import random\n",
    "import warnings\n",
    "warnings.filterwarnings('ignore')\n",
    "\n",
    "from sklearn import metrics\n",
    "from sklearn.ensemble import RandomForestClassifier\n",
    "from requests.auth import HTTPBasicAuth\n",
    "from IPython.display import clear_output\n",
    "from deap import creator, base, tools, algorithms\n",
    "from sklearn.impute import SimpleImputer"
   ]
  },
  {
   "cell_type": "markdown",
   "metadata": {},
   "source": [
    "### Data Loading"
   ]
  },
  {
   "cell_type": "code",
   "execution_count": 2,
   "metadata": {},
   "outputs": [],
   "source": [
    "df = pd.read_csv(\"dev.csv\") \n",
    "dfo = pd.read_csv(\"oot0.csv\")"
   ]
  },
  {
   "cell_type": "markdown",
   "metadata": {},
   "source": [
    "### Data Preparation"
   ]
  },
  {
   "cell_type": "markdown",
   "metadata": {},
   "source": [
    "#### OOT Censoring"
   ]
  },
  {
   "cell_type": "code",
   "execution_count": 3,
   "metadata": {},
   "outputs": [],
   "source": [
    "def is_min_max_censoring(value,dev_min, dev_max):\n",
    "    try:\n",
    "        if value < dev_min:  \n",
    "            return dev_min\n",
    "        if value > dev_max: \n",
    "            return dev_max\n",
    "    except:\n",
    "        value\n",
    "    return value\n",
    "\n",
    "for col in [i for i in list(df.columns) if i not in ['ob_target','id']]:  \n",
    "    dev_min = df[col].min()\n",
    "    dev_max = df[col].max()\n",
    "    dfo[col] = np.vectorize(is_min_max_censoring)(dfo[col],dev_min,dev_max)"
   ]
  },
  {
   "cell_type": "markdown",
   "metadata": {},
   "source": [
    "####  Dummy: Categorical Nominal"
   ]
  },
  {
   "cell_type": "code",
   "execution_count": 4,
   "metadata": {},
   "outputs": [],
   "source": [
    "for varname in ['icn_var_22','icn_var_23','icn_var_24']:\n",
    "    df_temp = pd.get_dummies(df[varname])\n",
    "    dfo_temp = pd.get_dummies(dfo[varname])\n",
    "    new_dummy_names = []\n",
    "    for colname in df_temp.columns:\n",
    "        new_dummy_names.append(str(varname) + '_'+str(colname))\n",
    "    df_temp.columns = new_dummy_names\n",
    "    dfo_temp.columns = new_dummy_names\n",
    "    df = pd.concat([df,df_temp],axis=1)\n",
    "    dfo = pd.concat([dfo,dfo_temp],axis=1) \n",
    "\n",
    "in_model = [i for i in list(df.columns) if i not in ['ob_target','id']]\n",
    "output_var = 'ob_target'"
   ]
  },
  {
   "cell_type": "markdown",
   "metadata": {},
   "source": [
    "#### OOT NaN Values - Mean Imputer"
   ]
  },
  {
   "cell_type": "code",
   "execution_count": 10,
   "metadata": {},
   "outputs": [],
   "source": [
    "X = df[in_model]\n",
    "y = df[output_var]\n",
    "Xo = dfo[in_model]\n",
    "\n",
    "# Imputing NaN values OOT\n",
    "imp = SimpleImputer(strategy='mean')\n",
    "imp.fit(Xo)\n",
    "Xo = imp.transform(Xo)"
   ]
  },
  {
   "cell_type": "markdown",
   "metadata": {},
   "source": [
    "### Modeling"
   ]
  },
  {
   "cell_type": "markdown",
   "metadata": {},
   "source": [
    "#### Baseline RFC"
   ]
  },
  {
   "cell_type": "code",
   "execution_count": 11,
   "metadata": {},
   "outputs": [],
   "source": [
    "RFC = RandomForestClassifier(random_state=25)\n",
    "fitted_model = RFC.fit(X, y)\n",
    "pred_dev = fitted_model.predict_proba(X)[:,1]\n",
    "pred_oot  = fitted_model.predict_proba(Xo)[:,1]"
   ]
  },
  {
   "cell_type": "markdown",
   "metadata": {},
   "source": [
    "#### Parameters Optimization for RFC"
   ]
  },
  {
   "cell_type": "code",
   "execution_count": 12,
   "metadata": {},
   "outputs": [],
   "source": [
    "def Grid_Search(X, y, Xo):\n",
    "    iteration = 0\n",
    "    url = 'http://mfalonso.pythonanywhere.com/api/v1.0/uploadpredictions'\n",
    "    Hyperparameters = pd.DataFrame(columns = ['KS_OOT','GINI_OOT','GRADE','param_grid'])\n",
    "    C1 = []\n",
    "    C2 = []\n",
    "    C3 = []\n",
    "    C4 = []\n",
    "    RFC = RandomForestClassifier()\n",
    "    for max_depth in [70, 80, 90, 100]:\n",
    "        for n_estimators in [5000, 6000, 7000]:\n",
    "            for max_features in [\"log2\"]:\n",
    "                for min_samples_split in [2,4]:\n",
    "                    for min_samples_leaf in [2]:\n",
    "                        for bootstrap in [False]:\n",
    "                \n",
    "                            clear_output(wait=True)\n",
    "                            iteration = iteration + 1\n",
    "                            print(\"Running Iteration #\" + str(iteration))\n",
    "                            param_grid = {\n",
    "                                'max_depth'         : max_depth,\n",
    "                                'n_estimators'      : n_estimators,\n",
    "                                'max_features'      : max_features,\n",
    "                                'min_samples_split' : min_samples_split,\n",
    "                                'min_samples_leaf'  : min_samples_leaf,\n",
    "                                'bootstrap'         : bootstrap,\n",
    "                            }\n",
    "                            RFC = RandomForestClassifier(random_state=25, n_jobs=-1).set_params(**param_grid)\n",
    "                            RFC.fit(X, y)\n",
    "                            pred_oot = RFC.predict_proba(Xo)[:,1]\n",
    "\n",
    "                            # OOT Prediction\n",
    "                            dfo['pred'] = pred_oot\n",
    "                            dfo_tosend = dfo[list(['id','pred'])]\n",
    "\n",
    "                            # Submission\n",
    "                            i=1\n",
    "                            filename = \"student_sub\"+str(i)+\".csv\"\n",
    "                            dfo_tosend.to_csv(filename, sep=',')\n",
    "                            files = {'file': (filename, open(filename, 'rb'))}\n",
    "                            rsub = requests.post(url, files=files, auth=HTTPBasicAuth('Diego.Cuartas', 'Cuartas3458!'))\n",
    "                            resp_str = str(rsub.text)\n",
    "\n",
    "                            # Results\n",
    "                            KS_GINI_GRADE_OOT = resp_str.replace(' ','').replace('KS2=','').replace ('GINI=','').replace ('RESULTSUBMISSION:','').replace ('GRADE=','').split(';')\n",
    "                            KS_OOT = float(KS_GINI_GRADE_OOT[0])\n",
    "                            GINI_OOT = float(KS_GINI_GRADE_OOT[1])\n",
    "                            GRADE = float(KS_GINI_GRADE_OOT[2])\n",
    "                            C1.append(KS_OOT)\n",
    "                            C2.append(GINI_OOT)\n",
    "                            C3.append(GRADE)\n",
    "                            C4.append(param_grid)\n",
    "                            time.sleep(20)\n",
    "\n",
    "    Hyperparameters['KS_OOT'] = C1\n",
    "    Hyperparameters['GINI_OOT'] = C2\n",
    "    Hyperparameters['GRADE'] = C3\n",
    "    Hyperparameters['param_grid'] = C4\n",
    "   \n",
    "    best_parameters = Hyperparameters.sort_values('KS_OOT', ascending = False).head(1)['param_grid']\n",
    "    return best_parameters, Hyperparameters, RFC"
   ]
  },
  {
   "cell_type": "code",
   "execution_count": 13,
   "metadata": {},
   "outputs": [
    {
     "name": "stdout",
     "output_type": "stream",
     "text": [
      "Running Iteration #24\n"
     ]
    },
    {
     "data": {
      "text/html": [
       "<div>\n",
       "<style scoped>\n",
       "    .dataframe tbody tr th:only-of-type {\n",
       "        vertical-align: middle;\n",
       "    }\n",
       "\n",
       "    .dataframe tbody tr th {\n",
       "        vertical-align: top;\n",
       "    }\n",
       "\n",
       "    .dataframe thead th {\n",
       "        text-align: right;\n",
       "    }\n",
       "</style>\n",
       "<table border=\"1\" class=\"dataframe\">\n",
       "  <thead>\n",
       "    <tr style=\"text-align: right;\">\n",
       "      <th></th>\n",
       "      <th>KS_OOT</th>\n",
       "      <th>GINI_OOT</th>\n",
       "      <th>GRADE</th>\n",
       "      <th>param_grid</th>\n",
       "    </tr>\n",
       "  </thead>\n",
       "  <tbody>\n",
       "    <tr>\n",
       "      <th>9</th>\n",
       "      <td>0.38207</td>\n",
       "      <td>0.512858</td>\n",
       "      <td>9.054</td>\n",
       "      <td>{'max_depth': 80, 'n_estimators': 6000, 'max_features': 'log2', 'min_samples_split': 4, 'min_samples_leaf': 2, 'bootstrap': False}</td>\n",
       "    </tr>\n",
       "    <tr>\n",
       "      <th>2</th>\n",
       "      <td>0.38207</td>\n",
       "      <td>0.512858</td>\n",
       "      <td>9.054</td>\n",
       "      <td>{'max_depth': 70, 'n_estimators': 6000, 'max_features': 'log2', 'min_samples_split': 2, 'min_samples_leaf': 2, 'bootstrap': False}</td>\n",
       "    </tr>\n",
       "    <tr>\n",
       "      <th>3</th>\n",
       "      <td>0.38207</td>\n",
       "      <td>0.512858</td>\n",
       "      <td>9.054</td>\n",
       "      <td>{'max_depth': 70, 'n_estimators': 6000, 'max_features': 'log2', 'min_samples_split': 4, 'min_samples_leaf': 2, 'bootstrap': False}</td>\n",
       "    </tr>\n",
       "    <tr>\n",
       "      <th>15</th>\n",
       "      <td>0.38207</td>\n",
       "      <td>0.512858</td>\n",
       "      <td>9.054</td>\n",
       "      <td>{'max_depth': 90, 'n_estimators': 6000, 'max_features': 'log2', 'min_samples_split': 4, 'min_samples_leaf': 2, 'bootstrap': False}</td>\n",
       "    </tr>\n",
       "    <tr>\n",
       "      <th>14</th>\n",
       "      <td>0.38207</td>\n",
       "      <td>0.512858</td>\n",
       "      <td>9.054</td>\n",
       "      <td>{'max_depth': 90, 'n_estimators': 6000, 'max_features': 'log2', 'min_samples_split': 2, 'min_samples_leaf': 2, 'bootstrap': False}</td>\n",
       "    </tr>\n",
       "  </tbody>\n",
       "</table>\n",
       "</div>"
      ],
      "text/plain": [
       "     KS_OOT  GINI_OOT  GRADE  \\\n",
       "9   0.38207  0.512858  9.054   \n",
       "2   0.38207  0.512858  9.054   \n",
       "3   0.38207  0.512858  9.054   \n",
       "15  0.38207  0.512858  9.054   \n",
       "14  0.38207  0.512858  9.054   \n",
       "\n",
       "                                                                                                                            param_grid  \n",
       "9   {'max_depth': 80, 'n_estimators': 6000, 'max_features': 'log2', 'min_samples_split': 4, 'min_samples_leaf': 2, 'bootstrap': False}  \n",
       "2   {'max_depth': 70, 'n_estimators': 6000, 'max_features': 'log2', 'min_samples_split': 2, 'min_samples_leaf': 2, 'bootstrap': False}  \n",
       "3   {'max_depth': 70, 'n_estimators': 6000, 'max_features': 'log2', 'min_samples_split': 4, 'min_samples_leaf': 2, 'bootstrap': False}  \n",
       "15  {'max_depth': 90, 'n_estimators': 6000, 'max_features': 'log2', 'min_samples_split': 4, 'min_samples_leaf': 2, 'bootstrap': False}  \n",
       "14  {'max_depth': 90, 'n_estimators': 6000, 'max_features': 'log2', 'min_samples_split': 2, 'min_samples_leaf': 2, 'bootstrap': False}  "
      ]
     },
     "execution_count": 13,
     "metadata": {},
     "output_type": "execute_result"
    }
   ],
   "source": [
    "best_parameters, Hyperparameters, model = Grid_Search(X, y, Xo)\n",
    "pd.set_option('display.max_colwidth', -1)\n",
    "Hyperparameters.sort_values('GRADE', ascending=False).head(5)"
   ]
  },
  {
   "cell_type": "code",
   "execution_count": 14,
   "metadata": {},
   "outputs": [
    {
     "data": {
      "text/plain": [
       "9    {'max_depth': 80, 'n_estimators': 6000, 'max_features': 'log2', 'min_samples_split': 4, 'min_samples_leaf': 2, 'bootstrap': False}\n",
       "Name: param_grid, dtype: object"
      ]
     },
     "execution_count": 14,
     "metadata": {},
     "output_type": "execute_result"
    }
   ],
   "source": [
    "best_parameters"
   ]
  },
  {
   "cell_type": "code",
   "execution_count": 15,
   "metadata": {},
   "outputs": [],
   "source": [
    "best_parameters = {'max_depth': 80, 'n_estimators': 6000, 'max_features': 'log2', 'min_samples_split': 4, 'min_samples_leaf': 2, 'bootstrap': False}"
   ]
  },
  {
   "cell_type": "code",
   "execution_count": 16,
   "metadata": {},
   "outputs": [],
   "source": [
    "Optimized_Model = RandomForestClassifier(random_state=25,n_jobs=-1).set_params(**best_parameters)\n",
    "Optimized_Model.fit(X,y)\n",
    "pred_dev = Optimized_Model.predict_proba(X)[:,1]\n",
    "pred_oot = Optimized_Model.predict_proba(Xo)[:,1]"
   ]
  },
  {
   "cell_type": "markdown",
   "metadata": {},
   "source": [
    "#### Professor Recomendation: RFC Parameters:"
   ]
  },
  {
   "cell_type": "code",
   "execution_count": 17,
   "metadata": {},
   "outputs": [],
   "source": [
    "Professor_Model=RandomForestClassifier(n_estimators=10000, oob_score=True, random_state=25 ,max_features='log2', bootstrap = 'True', min_samples_split = 2, min_samples_leaf = 1, criterion = 'entropy', n_jobs=5)\n",
    "Professor_Model.fit(X,y)\n",
    "pred_dev = Professor_Model.predict_proba(X)[:,1]\n",
    "pred_oot = Professor_Model.predict_proba(Xo)[:,1]"
   ]
  },
  {
   "cell_type": "markdown",
   "metadata": {},
   "source": [
    "### Genetic Algortithm - Feature Selection"
   ]
  },
  {
   "cell_type": "code",
   "execution_count": 9,
   "metadata": {},
   "outputs": [
    {
     "name": "stdout",
     "output_type": "stream",
     "text": [
      "loop  1\n",
      "sum_current_gini= 39.155230177731006 sum_current_gini_1= 0.0 sum_current_gini_2= 0.0\n",
      "loop  2\n",
      "sum_current_gini= 39.882690690303 sum_current_gini_1= 39.155230177731006 sum_current_gini_2= 0.0\n",
      "loop  3\n",
      "sum_current_gini= 40.261761892440994 sum_current_gini_1= 39.882690690303 sum_current_gini_2= 39.155230177731006\n",
      "loop  4\n",
      "sum_current_gini= 40.695864795424995 sum_current_gini_1= 40.261761892440994 sum_current_gini_2= 39.882690690303\n",
      "loop  5\n",
      "sum_current_gini= 41.001111378108995 sum_current_gini_1= 40.695864795424995 sum_current_gini_2= 40.261761892440994\n",
      "loop  6\n",
      "sum_current_gini= 41.312834453183015 sum_current_gini_1= 41.001111378108995 sum_current_gini_2= 40.695864795424995\n",
      "loop  7\n",
      "sum_current_gini= 41.68121124040199 sum_current_gini_1= 41.312834453183015 sum_current_gini_2= 41.001111378108995\n",
      "loop  8\n",
      "sum_current_gini= 41.85896935276799 sum_current_gini_1= 41.68121124040199 sum_current_gini_2= 41.312834453183015\n",
      "loop  9\n",
      "sum_current_gini= 42.110332581631 sum_current_gini_1= 41.85896935276799 sum_current_gini_2= 41.68121124040199\n",
      "loop  10\n",
      "sum_current_gini= 42.34286823353399 sum_current_gini_1= 42.110332581631 sum_current_gini_2= 41.85896935276799\n",
      "loop  11\n",
      "sum_current_gini= 42.493292451871 sum_current_gini_1= 42.34286823353399 sum_current_gini_2= 42.110332581631\n",
      "loop  12\n",
      "sum_current_gini= 42.68549270325699 sum_current_gini_1= 42.493292451871 sum_current_gini_2= 42.34286823353399\n",
      "loop  13\n",
      "sum_current_gini= 42.87657926598002 sum_current_gini_1= 42.68549270325699 sum_current_gini_2= 42.493292451871\n",
      "loop  14\n",
      "sum_current_gini= 43.108586955518 sum_current_gini_1= 42.87657926598002 sum_current_gini_2= 42.68549270325699\n",
      "loop  15\n",
      "sum_current_gini= 43.210904213534 sum_current_gini_1= 43.108586955518 sum_current_gini_2= 42.87657926598002\n",
      "loop  16\n",
      "sum_current_gini= 43.295805645156 sum_current_gini_1= 43.210904213534 sum_current_gini_2= 43.108586955518\n",
      "loop  17\n",
      "sum_current_gini= 43.438590463507985 sum_current_gini_1= 43.295805645156 sum_current_gini_2= 43.210904213534\n",
      "loop  18\n",
      "sum_current_gini= 43.573560518685 sum_current_gini_1= 43.438590463507985 sum_current_gini_2= 43.295805645156\n",
      "loop  19\n",
      "sum_current_gini= 43.65609293174698 sum_current_gini_1= 43.573560518685 sum_current_gini_2= 43.438590463507985\n",
      "loop  20\n",
      "sum_current_gini= 43.73480438009599 sum_current_gini_1= 43.65609293174698 sum_current_gini_2= 43.573560518685\n",
      "loop  21\n",
      "sum_current_gini= 43.831130362775994 sum_current_gini_1= 43.73480438009599 sum_current_gini_2= 43.65609293174698\n",
      "loop  22\n",
      "sum_current_gini= 43.88958053329599 sum_current_gini_1= 43.831130362775994 sum_current_gini_2= 43.73480438009599\n",
      "loop  23\n",
      "sum_current_gini= 43.97496301890801 sum_current_gini_1= 43.88958053329599 sum_current_gini_2= 43.831130362775994\n",
      "loop  24\n",
      "sum_current_gini= 44.018389945218004 sum_current_gini_1= 43.97496301890801 sum_current_gini_2= 43.88958053329599\n",
      "loop  25\n",
      "Grade: 9.869, KS: 0.416486058097, GINI: 0.556713786634\n",
      "['ib_var_1', 'ib_var_2', 'ib_var_3', 'ib_var_7', 'ib_var_8', 'ib_var_9', 'ib_var_10', 'ib_var_11', 'ib_var_13', 'ib_var_14', 'ib_var_15', 'ib_var_17', 'ib_var_18', 'ib_var_19', 'ib_var_20', 'ib_var_21', 'icn_var_23', 'icn_var_24', 'ico_var_26', 'ico_var_28', 'ico_var_30', 'ico_var_32', 'ico_var_33', 'ico_var_34', 'ico_var_36', 'ico_var_37', 'ico_var_38', 'ico_var_39', 'ico_var_40', 'ico_var_42', 'ico_var_43', 'ico_var_44', 'ico_var_45', 'ico_var_48', 'ico_var_49', 'ico_var_50', 'ico_var_53', 'ico_var_54', 'ico_var_55', 'ico_var_56', 'ico_var_57', 'ico_var_59', 'ico_var_60', 'ico_var_61', 'if_var_65', 'if_var_66', 'if_var_67', 'if_var_69', 'if_var_70', 'if_var_71', 'if_var_73', 'if_var_74', 'if_var_75', 'if_var_76', 'if_var_77', 'if_var_78', 'if_var_79', 'if_var_80']\n",
      "sum_current_gini= 44.077866003223 sum_current_gini_1= 44.018389945218004 sum_current_gini_2= 43.97496301890801\n",
      "loop  26\n",
      "Grade: 9.935, KS: 0.419274900877, GINI: 0.547761531992\n",
      "['ib_var_2', 'ib_var_3', 'ib_var_5', 'ib_var_6', 'ib_var_7', 'ib_var_8', 'ib_var_10', 'ib_var_11', 'ib_var_13', 'ib_var_14', 'ib_var_15', 'ib_var_17', 'ib_var_18', 'ib_var_20', 'ib_var_21', 'icn_var_23', 'icn_var_24', 'ico_var_26', 'ico_var_28', 'ico_var_30', 'ico_var_32', 'ico_var_33', 'ico_var_35', 'ico_var_36', 'ico_var_37', 'ico_var_39', 'ico_var_41', 'ico_var_42', 'ico_var_45', 'ico_var_46', 'ico_var_48', 'ico_var_49', 'ico_var_50', 'ico_var_51', 'ico_var_53', 'ico_var_54', 'ico_var_55', 'ico_var_56', 'ico_var_57', 'ico_var_58', 'ico_var_61', 'ico_var_63', 'ico_var_64', 'if_var_66', 'if_var_67', 'if_var_69', 'if_var_70', 'if_var_71', 'if_var_73', 'if_var_74', 'if_var_75', 'if_var_76', 'if_var_78', 'if_var_79', 'if_var_80']\n",
      "sum_current_gini= 44.110523421499 sum_current_gini_1= 44.077866003223 sum_current_gini_2= 44.018389945218004\n",
      "loop  27\n",
      "sum_current_gini= 44.155198048806994 sum_current_gini_1= 44.110523421499 sum_current_gini_2= 44.077866003223\n",
      "loop  28\n",
      "Grade: 10.0, KS: 0.422291333561, GINI: 0.558576095897\n",
      "['ib_var_2', 'ib_var_3', 'ib_var_4', 'ib_var_7', 'ib_var_8', 'ib_var_10', 'ib_var_11', 'ib_var_13', 'ib_var_14', 'ib_var_15', 'ib_var_16', 'ib_var_17', 'ib_var_19', 'ib_var_20', 'ib_var_21', 'icn_var_22', 'icn_var_24', 'ico_var_26', 'ico_var_28', 'ico_var_30', 'ico_var_32', 'ico_var_33', 'ico_var_34', 'ico_var_35', 'ico_var_36', 'ico_var_37', 'ico_var_38', 'ico_var_39', 'ico_var_40', 'ico_var_43', 'ico_var_44', 'ico_var_45', 'ico_var_46', 'ico_var_48', 'ico_var_49', 'ico_var_51', 'ico_var_53', 'ico_var_54', 'ico_var_55', 'ico_var_56', 'ico_var_57', 'ico_var_58', 'ico_var_61', 'ico_var_63', 'ico_var_64', 'if_var_65', 'if_var_66', 'if_var_67', 'if_var_69', 'if_var_71', 'if_var_73', 'if_var_74', 'if_var_75', 'if_var_76', 'if_var_78', 'if_var_79', 'if_var_80']\n",
      "Grade: 9.813, KS: 0.414110805091, GINI: 0.555861190954\n",
      "['ib_var_2', 'ib_var_4', 'ib_var_6', 'ib_var_7', 'ib_var_8', 'ib_var_9', 'ib_var_10', 'ib_var_11', 'ib_var_12', 'ib_var_13', 'ib_var_15', 'ib_var_16', 'ib_var_17', 'ib_var_18', 'ib_var_19', 'ib_var_20', 'ib_var_21', 'icn_var_22', 'icn_var_23', 'icn_var_24', 'ico_var_26', 'ico_var_28', 'ico_var_30', 'ico_var_32', 'ico_var_33', 'ico_var_35', 'ico_var_36', 'ico_var_37', 'ico_var_39', 'ico_var_40', 'ico_var_43', 'ico_var_44', 'ico_var_45', 'ico_var_46', 'ico_var_48', 'ico_var_49', 'ico_var_50', 'ico_var_51', 'ico_var_53', 'ico_var_54', 'ico_var_55', 'ico_var_56', 'ico_var_57', 'ico_var_58', 'ico_var_61', 'ico_var_64', 'if_var_65', 'if_var_66', 'if_var_67', 'if_var_69', 'if_var_73', 'if_var_74', 'if_var_78', 'if_var_79', 'if_var_80']\n",
      "Grade: 9.843, KS: 0.415368903594, GINI: 0.560239\n",
      "['ib_var_1', 'ib_var_2', 'ib_var_4', 'ib_var_5', 'ib_var_6', 'ib_var_7', 'ib_var_10', 'ib_var_11', 'ib_var_12', 'ib_var_13', 'ib_var_15', 'ib_var_17', 'ib_var_18', 'ib_var_21', 'icn_var_23', 'icn_var_24', 'ico_var_26', 'ico_var_28', 'ico_var_30', 'ico_var_32', 'ico_var_33', 'ico_var_34', 'ico_var_35', 'ico_var_36', 'ico_var_37', 'ico_var_38', 'ico_var_39', 'ico_var_40', 'ico_var_43', 'ico_var_44', 'ico_var_45', 'ico_var_46', 'ico_var_48', 'ico_var_49', 'ico_var_50', 'ico_var_51', 'ico_var_53', 'ico_var_54', 'ico_var_55', 'ico_var_56', 'ico_var_57', 'ico_var_58', 'ico_var_59', 'ico_var_60', 'ico_var_61', 'if_var_65', 'if_var_67', 'if_var_69', 'if_var_72', 'if_var_73', 'if_var_74', 'if_var_77', 'if_var_78', 'if_var_79']\n",
      "sum_current_gini= 44.244032507174985 sum_current_gini_1= 44.155198048806994 sum_current_gini_2= 44.110523421499\n",
      "loop  29\n",
      "Grade: 9.835, KS: 0.415056978345, GINI: 0.557651872938\n",
      "['ib_var_2', 'ib_var_3', 'ib_var_4', 'ib_var_5', 'ib_var_7', 'ib_var_8', 'ib_var_10', 'ib_var_11', 'ib_var_12', 'ib_var_13', 'ib_var_14', 'ib_var_16', 'ib_var_17', 'ib_var_18', 'ib_var_19', 'ib_var_20', 'ib_var_21', 'icn_var_22', 'icn_var_23', 'icn_var_24', 'ico_var_26', 'ico_var_28', 'ico_var_30', 'ico_var_32', 'ico_var_33', 'ico_var_34', 'ico_var_35', 'ico_var_36', 'ico_var_37', 'ico_var_38', 'ico_var_39', 'ico_var_40', 'ico_var_43', 'ico_var_45', 'ico_var_46', 'ico_var_48', 'ico_var_49', 'ico_var_50', 'ico_var_53', 'ico_var_54', 'ico_var_55', 'ico_var_56', 'ico_var_57', 'ico_var_58', 'ico_var_61', 'ico_var_63', 'ico_var_64', 'if_var_65', 'if_var_66', 'if_var_67', 'if_var_69', 'if_var_71', 'if_var_73', 'if_var_74', 'if_var_75', 'if_var_78', 'if_var_79', 'if_var_80']\n",
      "sum_current_gini= 44.28444069024398 sum_current_gini_1= 44.244032507174985 sum_current_gini_2= 44.155198048806994\n",
      "loop  30\n"
     ]
    },
    {
     "name": "stdout",
     "output_type": "stream",
     "text": [
      "Grade: 9.899, KS: 0.4177441566, GINI: 0.560239\n",
      "['ib_var_2', 'ib_var_3', 'ib_var_4', 'ib_var_7', 'ib_var_8', 'ib_var_9', 'ib_var_10', 'ib_var_11', 'ib_var_13', 'ib_var_15', 'ib_var_17', 'ib_var_18', 'ib_var_19', 'ib_var_20', 'ib_var_21', 'icn_var_23', 'icn_var_24', 'ico_var_26', 'ico_var_28', 'ico_var_30', 'ico_var_32', 'ico_var_33', 'ico_var_35', 'ico_var_36', 'ico_var_37', 'ico_var_39', 'ico_var_41', 'ico_var_42', 'ico_var_45', 'ico_var_46', 'ico_var_48', 'ico_var_49', 'ico_var_50', 'ico_var_51', 'ico_var_53', 'ico_var_54', 'ico_var_55', 'ico_var_56', 'ico_var_57', 'ico_var_58', 'ico_var_61', 'ico_var_63', 'ico_var_64', 'if_var_65', 'if_var_66', 'if_var_67', 'if_var_69', 'if_var_71', 'if_var_73', 'if_var_74', 'if_var_75', 'if_var_76', 'if_var_78', 'if_var_79', 'if_var_80']\n",
      "sum_current_gini= 44.34089615250501 sum_current_gini_1= 44.28444069024398 sum_current_gini_2= 44.244032507174985\n",
      "loop  31\n",
      "Grade: 9.887, KS: 0.4172289023, GINI: 0.558648878455\n",
      "['ib_var_1', 'ib_var_2', 'ib_var_3', 'ib_var_7', 'ib_var_8', 'ib_var_9', 'ib_var_10', 'ib_var_11', 'ib_var_13', 'ib_var_14', 'ib_var_15', 'ib_var_17', 'ib_var_18', 'ib_var_19', 'ib_var_20', 'ib_var_21', 'icn_var_23', 'icn_var_24', 'ico_var_26', 'ico_var_28', 'ico_var_30', 'ico_var_32', 'ico_var_33', 'ico_var_34', 'ico_var_35', 'ico_var_36', 'ico_var_37', 'ico_var_38', 'ico_var_39', 'ico_var_40', 'ico_var_42', 'ico_var_43', 'ico_var_44', 'ico_var_45', 'ico_var_48', 'ico_var_49', 'ico_var_50', 'ico_var_53', 'ico_var_54', 'ico_var_55', 'ico_var_56', 'ico_var_57', 'ico_var_59', 'ico_var_60', 'ico_var_61', 'if_var_65', 'if_var_66', 'if_var_67', 'if_var_69', 'if_var_70', 'if_var_71', 'if_var_73', 'if_var_74', 'if_var_75', 'if_var_76', 'if_var_77', 'if_var_78', 'if_var_79', 'if_var_80']\n",
      "sum_current_gini= 44.41637443382701 sum_current_gini_1= 44.34089615250501 sum_current_gini_2= 44.28444069024398\n",
      "loop  32\n",
      "Grade: 9.847, KS: 0.415539884842, GINI: 0.560239\n",
      "['ib_var_1', 'ib_var_2', 'ib_var_3', 'ib_var_7', 'ib_var_8', 'ib_var_9', 'ib_var_10', 'ib_var_11', 'ib_var_13', 'ib_var_14', 'ib_var_15', 'ib_var_17', 'ib_var_18', 'ib_var_19', 'ib_var_20', 'ib_var_21', 'icn_var_23', 'icn_var_24', 'ico_var_26', 'ico_var_28', 'ico_var_30', 'ico_var_32', 'ico_var_33', 'ico_var_34', 'ico_var_36', 'ico_var_37', 'ico_var_38', 'ico_var_39', 'ico_var_40', 'ico_var_42', 'ico_var_43', 'ico_var_44', 'ico_var_45', 'ico_var_48', 'ico_var_49', 'ico_var_50', 'ico_var_53', 'ico_var_54', 'ico_var_55', 'ico_var_56', 'ico_var_57', 'ico_var_59', 'ico_var_60', 'ico_var_61', 'if_var_65', 'if_var_66', 'if_var_67', 'if_var_69', 'if_var_70', 'if_var_71', 'if_var_73', 'if_var_74', 'if_var_77', 'if_var_78', 'if_var_79', 'if_var_80']\n",
      "sum_current_gini= 44.451292035291 sum_current_gini_1= 44.41637443382701 sum_current_gini_2= 44.34089615250501\n",
      "loop  33\n",
      "Grade: 9.869, KS: 0.416486058097, GINI: 0.556713786634\n",
      "['ib_var_1', 'ib_var_2', 'ib_var_3', 'ib_var_7', 'ib_var_8', 'ib_var_9', 'ib_var_10', 'ib_var_11', 'ib_var_13', 'ib_var_14', 'ib_var_15', 'ib_var_17', 'ib_var_18', 'ib_var_19', 'ib_var_20', 'ib_var_21', 'icn_var_23', 'icn_var_24', 'ico_var_26', 'ico_var_28', 'ico_var_30', 'ico_var_32', 'ico_var_33', 'ico_var_34', 'ico_var_36', 'ico_var_37', 'ico_var_38', 'ico_var_39', 'ico_var_40', 'ico_var_42', 'ico_var_43', 'ico_var_44', 'ico_var_45', 'ico_var_48', 'ico_var_49', 'ico_var_50', 'ico_var_53', 'ico_var_54', 'ico_var_55', 'ico_var_56', 'ico_var_57', 'ico_var_59', 'ico_var_60', 'ico_var_61', 'if_var_65', 'if_var_66', 'if_var_67', 'if_var_69', 'if_var_70', 'if_var_71', 'if_var_73', 'if_var_74', 'if_var_75', 'if_var_76', 'if_var_77', 'if_var_78', 'if_var_79', 'if_var_80']\n",
      "Grade: 9.816, KS: 0.414247127977, GINI: 0.560239\n",
      "['ib_var_2', 'ib_var_4', 'ib_var_6', 'ib_var_7', 'ib_var_8', 'ib_var_9', 'ib_var_10', 'ib_var_11', 'ib_var_15', 'ib_var_17', 'ib_var_18', 'ib_var_19', 'ib_var_20', 'ib_var_21', 'icn_var_22', 'icn_var_23', 'icn_var_24', 'ico_var_28', 'ico_var_30', 'ico_var_32', 'ico_var_33', 'ico_var_34', 'ico_var_35', 'ico_var_36', 'ico_var_37', 'ico_var_38', 'ico_var_39', 'ico_var_40', 'ico_var_43', 'ico_var_45', 'ico_var_46', 'ico_var_48', 'ico_var_49', 'ico_var_53', 'ico_var_54', 'ico_var_55', 'ico_var_57', 'ico_var_58', 'ico_var_63', 'ico_var_64', 'if_var_65', 'if_var_66', 'if_var_67', 'if_var_69', 'if_var_71', 'if_var_73', 'if_var_74', 'if_var_75', 'if_var_78', 'if_var_79', 'if_var_80']\n",
      "Grade: 9.909, KS: 0.41815312526, GINI: 0.553770136508\n",
      "['ib_var_1', 'ib_var_2', 'ib_var_3', 'ib_var_5', 'ib_var_6', 'ib_var_8', 'ib_var_10', 'ib_var_11', 'ib_var_13', 'ib_var_14', 'ib_var_15', 'ib_var_17', 'ib_var_18', 'ib_var_19', 'ib_var_20', 'ib_var_21', 'icn_var_22', 'icn_var_23', 'icn_var_24', 'ico_var_26', 'ico_var_28', 'ico_var_30', 'ico_var_32', 'ico_var_33', 'ico_var_35', 'ico_var_36', 'ico_var_37', 'ico_var_39', 'ico_var_40', 'ico_var_43', 'ico_var_44', 'ico_var_45', 'ico_var_46', 'ico_var_48', 'ico_var_49', 'ico_var_50', 'ico_var_51', 'ico_var_54', 'ico_var_55', 'ico_var_56', 'ico_var_58', 'ico_var_61', 'ico_var_64', 'if_var_65', 'if_var_66', 'if_var_67', 'if_var_69', 'if_var_70', 'if_var_71', 'if_var_73', 'if_var_75', 'if_var_76', 'if_var_78', 'if_var_79', 'if_var_80']\n",
      "sum_current_gini= 44.50257531481501 sum_current_gini_1= 44.451292035291 sum_current_gini_2= 44.41637443382701\n",
      "loop  34\n",
      "Grade: 10.0, KS: 0.423373829703, GINI: 0.560239\n",
      "['ib_var_1', 'ib_var_2', 'ib_var_3', 'ib_var_7', 'ib_var_8', 'ib_var_9', 'ib_var_10', 'ib_var_11', 'ib_var_13', 'ib_var_14', 'ib_var_15', 'ib_var_17', 'ib_var_18', 'ib_var_19', 'ib_var_20', 'ib_var_21', 'icn_var_23', 'icn_var_24', 'ico_var_28', 'ico_var_30', 'ico_var_32', 'ico_var_33', 'ico_var_34', 'ico_var_35', 'ico_var_36', 'ico_var_37', 'ico_var_38', 'ico_var_39', 'ico_var_40', 'ico_var_43', 'ico_var_44', 'ico_var_45', 'ico_var_46', 'ico_var_48', 'ico_var_49', 'ico_var_50', 'ico_var_51', 'ico_var_53', 'ico_var_54', 'ico_var_55', 'ico_var_56', 'ico_var_57', 'ico_var_59', 'ico_var_60', 'ico_var_61', 'if_var_65', 'if_var_67', 'if_var_69', 'if_var_72', 'if_var_73', 'if_var_74', 'if_var_77', 'if_var_78', 'if_var_79', 'if_var_80']\n",
      "Grade: 9.925, KS: 0.418828963299, GINI: 0.555509986229\n",
      "['ib_var_2', 'ib_var_3', 'ib_var_4', 'ib_var_5', 'ib_var_7', 'ib_var_8', 'ib_var_10', 'ib_var_11', 'ib_var_12', 'ib_var_13', 'ib_var_14', 'ib_var_16', 'ib_var_17', 'ib_var_18', 'ib_var_19', 'ib_var_20', 'ib_var_21', 'icn_var_22', 'icn_var_23', 'icn_var_24', 'ico_var_26', 'ico_var_28', 'ico_var_30', 'ico_var_32', 'ico_var_33', 'ico_var_34', 'ico_var_35', 'ico_var_36', 'ico_var_37', 'ico_var_38', 'ico_var_39', 'ico_var_40', 'ico_var_43', 'ico_var_44', 'ico_var_45', 'ico_var_46', 'ico_var_48', 'ico_var_49', 'ico_var_50', 'ico_var_51', 'ico_var_53', 'ico_var_54', 'ico_var_55', 'ico_var_56', 'ico_var_57', 'ico_var_58', 'ico_var_61', 'ico_var_63', 'ico_var_64', 'if_var_65', 'if_var_66', 'if_var_67', 'if_var_69', 'if_var_71', 'if_var_73', 'if_var_74', 'if_var_75', 'if_var_78', 'if_var_79', 'if_var_80']\n",
      "sum_current_gini= 44.527112737166995 sum_current_gini_1= 44.50257531481501 sum_current_gini_2= 44.451292035291\n",
      "loop  35\n",
      "Grade: 9.884, KS: 0.41710528748, GINI: 0.554499117367\n",
      "['ib_var_1', 'ib_var_2', 'ib_var_3', 'ib_var_7', 'ib_var_8', 'ib_var_9', 'ib_var_10', 'ib_var_11', 'ib_var_13', 'ib_var_14', 'ib_var_15', 'ib_var_17', 'ib_var_18', 'ib_var_19', 'ib_var_20', 'ib_var_21', 'icn_var_22', 'icn_var_23', 'icn_var_24', 'ico_var_26', 'ico_var_28', 'ico_var_30', 'ico_var_32', 'ico_var_33', 'ico_var_34', 'ico_var_36', 'ico_var_37', 'ico_var_38', 'ico_var_39', 'ico_var_41', 'ico_var_43', 'ico_var_44', 'ico_var_45', 'ico_var_46', 'ico_var_48', 'ico_var_49', 'ico_var_50', 'ico_var_51', 'ico_var_53', 'ico_var_54', 'ico_var_55', 'ico_var_57', 'ico_var_58', 'if_var_65', 'if_var_66', 'if_var_67', 'if_var_69', 'if_var_70', 'if_var_71', 'if_var_73', 'if_var_74', 'if_var_75', 'if_var_76', 'if_var_77', 'if_var_78', 'if_var_79', 'if_var_80']\n",
      "Grade: 9.913, KS: 0.418311398442, GINI: 0.560239\n",
      "['ib_var_1', 'ib_var_2', 'ib_var_3', 'ib_var_5', 'ib_var_8', 'ib_var_9', 'ib_var_10', 'ib_var_11', 'ib_var_13', 'ib_var_14', 'ib_var_15', 'ib_var_17', 'ib_var_18', 'ib_var_19', 'ib_var_20', 'ib_var_21', 'icn_var_23', 'icn_var_24', 'ico_var_26', 'ico_var_28', 'ico_var_30', 'ico_var_32', 'ico_var_33', 'ico_var_34', 'ico_var_35', 'ico_var_36', 'ico_var_37', 'ico_var_38', 'ico_var_39', 'ico_var_40', 'ico_var_43', 'ico_var_44', 'ico_var_45', 'ico_var_46', 'ico_var_48', 'ico_var_49', 'ico_var_50', 'ico_var_53', 'ico_var_54', 'ico_var_55', 'ico_var_56', 'ico_var_57', 'ico_var_59', 'ico_var_60', 'ico_var_61', 'if_var_65', 'if_var_67', 'if_var_69', 'if_var_72', 'if_var_73', 'if_var_74', 'if_var_77', 'if_var_78', 'if_var_79']\n"
     ]
    },
    {
     "name": "stdout",
     "output_type": "stream",
     "text": [
      "Grade: 9.948, KS: 0.419794776292, GINI: 0.560239\n",
      "['ib_var_2', 'ib_var_3', 'ib_var_4', 'ib_var_5', 'ib_var_6', 'ib_var_7', 'ib_var_10', 'ib_var_11', 'ib_var_12', 'ib_var_13', 'ib_var_14', 'ib_var_15', 'ib_var_16', 'ib_var_17', 'ib_var_18', 'ib_var_19', 'ib_var_20', 'ib_var_21', 'icn_var_23', 'icn_var_24', 'ico_var_26', 'ico_var_28', 'ico_var_30', 'ico_var_32', 'ico_var_33', 'ico_var_34', 'ico_var_35', 'ico_var_36', 'ico_var_37', 'ico_var_38', 'ico_var_39', 'ico_var_40', 'ico_var_43', 'ico_var_44', 'ico_var_45', 'ico_var_46', 'ico_var_48', 'ico_var_49', 'ico_var_51', 'ico_var_53', 'ico_var_54', 'ico_var_55', 'ico_var_56', 'ico_var_57', 'ico_var_58', 'ico_var_64', 'if_var_65', 'if_var_66', 'if_var_67', 'if_var_69', 'if_var_72', 'if_var_73', 'if_var_74', 'if_var_77', 'if_var_78', 'if_var_79']\n",
      "Grade: 9.907, KS: 0.418088429653, GINI: 0.555832308986\n",
      "['ib_var_2', 'ib_var_4', 'ib_var_6', 'ib_var_10', 'ib_var_11', 'ib_var_12', 'ib_var_13', 'ib_var_14', 'ib_var_15', 'ib_var_16', 'ib_var_17', 'ib_var_18', 'ib_var_20', 'ib_var_21', 'icn_var_22', 'icn_var_23', 'icn_var_24', 'ico_var_26', 'ico_var_30', 'ico_var_32', 'ico_var_33', 'ico_var_34', 'ico_var_35', 'ico_var_36', 'ico_var_37', 'ico_var_38', 'ico_var_39', 'ico_var_40', 'ico_var_43', 'ico_var_45', 'ico_var_46', 'ico_var_48', 'ico_var_49', 'ico_var_50', 'ico_var_51', 'ico_var_53', 'ico_var_54', 'ico_var_55', 'ico_var_56', 'ico_var_57', 'ico_var_59', 'ico_var_60', 'ico_var_61', 'if_var_65', 'if_var_67', 'if_var_69', 'if_var_70', 'if_var_71', 'if_var_73', 'if_var_74', 'if_var_75', 'if_var_76', 'if_var_78', 'if_var_79', 'if_var_80']\n",
      "sum_current_gini= 44.583723225653976 sum_current_gini_1= 44.527112737166995 sum_current_gini_2= 44.50257531481501\n",
      "loop  36\n",
      "Grade: 9.809, KS: 0.413939823843, GINI: 0.557911810645\n",
      "['ib_var_2', 'ib_var_3', 'ib_var_4', 'ib_var_5', 'ib_var_6', 'ib_var_8', 'ib_var_10', 'ib_var_11', 'ib_var_12', 'ib_var_13', 'ib_var_14', 'ib_var_15', 'ib_var_17', 'ib_var_18', 'ib_var_19', 'ib_var_20', 'ib_var_21', 'icn_var_22', 'icn_var_23', 'icn_var_24', 'ico_var_26', 'ico_var_28', 'ico_var_30', 'ico_var_32', 'ico_var_33', 'ico_var_34', 'ico_var_35', 'ico_var_36', 'ico_var_37', 'ico_var_38', 'ico_var_39', 'ico_var_40', 'ico_var_43', 'ico_var_44', 'ico_var_45', 'ico_var_46', 'ico_var_48', 'ico_var_49', 'ico_var_51', 'ico_var_53', 'ico_var_54', 'ico_var_55', 'ico_var_56', 'ico_var_57', 'ico_var_58', 'ico_var_60', 'ico_var_61', 'if_var_65', 'if_var_67', 'if_var_69', 'if_var_72', 'if_var_73', 'if_var_74', 'if_var_77', 'if_var_78', 'if_var_79']\n",
      "Grade: 9.826, KS: 0.414660717752, GINI: 0.559850368303\n",
      "['ib_var_2', 'ib_var_3', 'ib_var_4', 'ib_var_5', 'ib_var_6', 'ib_var_7', 'ib_var_10', 'ib_var_11', 'ib_var_12', 'ib_var_13', 'ib_var_14', 'ib_var_15', 'ib_var_16', 'ib_var_17', 'ib_var_18', 'ib_var_19', 'ib_var_20', 'ib_var_21', 'icn_var_23', 'icn_var_24', 'ico_var_26', 'ico_var_28', 'ico_var_30', 'ico_var_32', 'ico_var_33', 'ico_var_34', 'ico_var_35', 'ico_var_36', 'ico_var_37', 'ico_var_38', 'ico_var_39', 'ico_var_40', 'ico_var_43', 'ico_var_44', 'ico_var_45', 'ico_var_48', 'ico_var_49', 'ico_var_50', 'ico_var_51', 'ico_var_53', 'ico_var_54', 'ico_var_55', 'ico_var_56', 'ico_var_57', 'ico_var_58', 'ico_var_64', 'if_var_65', 'if_var_66', 'if_var_67', 'if_var_69', 'if_var_72', 'if_var_73', 'if_var_74', 'if_var_77', 'if_var_78', 'if_var_79']\n",
      "sum_current_gini= 44.61545064457898 sum_current_gini_1= 44.583723225653976 sum_current_gini_2= 44.527112737166995\n",
      "loop  37\n",
      "Grade: 9.828, KS: 0.414730034474, GINI: 0.558050444089\n",
      "['ib_var_2', 'ib_var_3', 'ib_var_4', 'ib_var_5', 'ib_var_6', 'ib_var_8', 'ib_var_10', 'ib_var_11', 'ib_var_12', 'ib_var_13', 'ib_var_15', 'ib_var_17', 'ib_var_18', 'ib_var_19', 'ib_var_20', 'ib_var_21', 'icn_var_23', 'icn_var_24', 'ico_var_26', 'ico_var_28', 'ico_var_30', 'ico_var_32', 'ico_var_33', 'ico_var_34', 'ico_var_35', 'ico_var_36', 'ico_var_37', 'ico_var_38', 'ico_var_39', 'ico_var_40', 'ico_var_43', 'ico_var_44', 'ico_var_45', 'ico_var_46', 'ico_var_48', 'ico_var_49', 'ico_var_50', 'ico_var_51', 'ico_var_53', 'ico_var_54', 'ico_var_55', 'ico_var_56', 'ico_var_57', 'ico_var_58', 'ico_var_61', 'ico_var_63', 'ico_var_64', 'if_var_65', 'if_var_66', 'if_var_67', 'if_var_69', 'if_var_70', 'if_var_71', 'if_var_73', 'if_var_74', 'if_var_75', 'if_var_76', 'if_var_78', 'if_var_79', 'if_var_80']\n",
      "Grade: 9.878, KS: 0.41686498951, GINI: 0.560239\n",
      "['ib_var_2', 'ib_var_3', 'ib_var_4', 'ib_var_5', 'ib_var_6', 'ib_var_7', 'ib_var_10', 'ib_var_11', 'ib_var_12', 'ib_var_13', 'ib_var_14', 'ib_var_15', 'ib_var_16', 'ib_var_17', 'ib_var_18', 'ib_var_19', 'ib_var_20', 'ib_var_21', 'icn_var_23', 'icn_var_24', 'ico_var_26', 'ico_var_28', 'ico_var_30', 'ico_var_32', 'ico_var_33', 'ico_var_34', 'ico_var_35', 'ico_var_36', 'ico_var_37', 'ico_var_38', 'ico_var_39', 'ico_var_40', 'ico_var_43', 'ico_var_45', 'ico_var_46', 'ico_var_48', 'ico_var_49', 'ico_var_50', 'ico_var_51', 'ico_var_53', 'ico_var_54', 'ico_var_55', 'ico_var_56', 'ico_var_57', 'ico_var_58', 'ico_var_64', 'if_var_65', 'if_var_66', 'if_var_67', 'if_var_69', 'if_var_72', 'if_var_73', 'if_var_74', 'if_var_77', 'if_var_78', 'if_var_79']\n",
      "Grade: 10.0, KS: 0.425513405854, GINI: 0.560239\n",
      "['ib_var_2', 'ib_var_3', 'ib_var_6', 'ib_var_7', 'ib_var_8', 'ib_var_9', 'ib_var_10', 'ib_var_11', 'ib_var_12', 'ib_var_13', 'ib_var_14', 'ib_var_15', 'ib_var_17', 'ib_var_18', 'ib_var_19', 'ib_var_20', 'ib_var_21', 'icn_var_22', 'icn_var_23', 'icn_var_24', 'ico_var_26', 'ico_var_28', 'ico_var_30', 'ico_var_32', 'ico_var_33', 'ico_var_34', 'ico_var_35', 'ico_var_36', 'ico_var_37', 'ico_var_38', 'ico_var_39', 'ico_var_40', 'ico_var_43', 'ico_var_44', 'ico_var_45', 'ico_var_46', 'ico_var_48', 'ico_var_49', 'ico_var_51', 'ico_var_53', 'ico_var_54', 'ico_var_55', 'ico_var_56', 'ico_var_57', 'ico_var_58', 'ico_var_61', 'ico_var_63', 'ico_var_64', 'if_var_65', 'if_var_66', 'if_var_67', 'if_var_69', 'if_var_72', 'if_var_73', 'if_var_74', 'if_var_77', 'if_var_78', 'if_var_79', 'if_var_80']\n",
      "Grade: 9.91, KS: 0.418209733916, GINI: 0.560239\n",
      "['ib_var_1', 'ib_var_2', 'ib_var_3', 'ib_var_7', 'ib_var_8', 'ib_var_9', 'ib_var_10', 'ib_var_11', 'ib_var_13', 'ib_var_14', 'ib_var_15', 'ib_var_17', 'ib_var_18', 'ib_var_19', 'ib_var_20', 'ib_var_21', 'icn_var_23', 'icn_var_24', 'ico_var_28', 'ico_var_30', 'ico_var_32', 'ico_var_33', 'ico_var_34', 'ico_var_35', 'ico_var_36', 'ico_var_37', 'ico_var_38', 'ico_var_39', 'ico_var_40', 'ico_var_43', 'ico_var_44', 'ico_var_45', 'ico_var_46', 'ico_var_48', 'ico_var_49', 'ico_var_50', 'ico_var_51', 'ico_var_53', 'ico_var_54', 'ico_var_55', 'ico_var_56', 'ico_var_57', 'ico_var_58', 'ico_var_59', 'ico_var_60', 'ico_var_61', 'if_var_65', 'if_var_67', 'if_var_69', 'if_var_72', 'if_var_73', 'if_var_74', 'if_var_77', 'if_var_78', 'if_var_79']\n",
      "sum_current_gini= 44.655449380647994 sum_current_gini_1= 44.61545064457898 sum_current_gini_2= 44.583723225653976\n",
      "loop  38\n",
      "Grade: 9.854, KS: 0.41583448091, GINI: 0.560239\n",
      "['ib_var_2', 'ib_var_3', 'ib_var_4', 'ib_var_5', 'ib_var_6', 'ib_var_7', 'ib_var_8', 'ib_var_9', 'ib_var_10', 'ib_var_11', 'ib_var_13', 'ib_var_14', 'ib_var_15', 'ib_var_17', 'ib_var_18', 'ib_var_19', 'ib_var_20', 'ib_var_21', 'icn_var_23', 'icn_var_24', 'ico_var_26', 'ico_var_28', 'ico_var_30', 'ico_var_32', 'ico_var_33', 'ico_var_34', 'ico_var_35', 'ico_var_36', 'ico_var_37', 'ico_var_38', 'ico_var_39', 'ico_var_40', 'ico_var_43', 'ico_var_44', 'ico_var_45', 'ico_var_46', 'ico_var_48', 'ico_var_49', 'ico_var_50', 'ico_var_51', 'ico_var_53', 'ico_var_54', 'ico_var_55', 'ico_var_56', 'ico_var_57', 'ico_var_59', 'ico_var_60', 'ico_var_61', 'if_var_65', 'if_var_66', 'if_var_67', 'if_var_69', 'if_var_70', 'if_var_71', 'if_var_73', 'if_var_74', 'if_var_77', 'if_var_78', 'if_var_79']\n",
      "Grade: 9.936, KS: 0.419309559238, GINI: 0.560239\n",
      "['ib_var_1', 'ib_var_2', 'ib_var_3', 'ib_var_7', 'ib_var_8', 'ib_var_9', 'ib_var_10', 'ib_var_11', 'ib_var_13', 'ib_var_14', 'ib_var_15', 'ib_var_17', 'ib_var_18', 'ib_var_19', 'ib_var_20', 'ib_var_21', 'icn_var_23', 'icn_var_24', 'ico_var_26', 'ico_var_28', 'ico_var_30', 'ico_var_32', 'ico_var_33', 'ico_var_34', 'ico_var_35', 'ico_var_36', 'ico_var_37', 'ico_var_38', 'ico_var_39', 'ico_var_40', 'ico_var_43', 'ico_var_44', 'ico_var_45', 'ico_var_46', 'ico_var_48', 'ico_var_49', 'ico_var_50', 'ico_var_51', 'ico_var_53', 'ico_var_54', 'ico_var_55', 'ico_var_56', 'ico_var_57', 'ico_var_59', 'ico_var_60', 'ico_var_61', 'if_var_65', 'if_var_67', 'if_var_69', 'if_var_72', 'if_var_73', 'if_var_74', 'if_var_77', 'if_var_78', 'if_var_79', 'if_var_80']\n"
     ]
    },
    {
     "name": "stdout",
     "output_type": "stream",
     "text": [
      "Grade: 9.837, KS: 0.415108965887, GINI: 0.558170593074\n",
      "['ib_var_2', 'ib_var_3', 'ib_var_4', 'ib_var_5', 'ib_var_6', 'ib_var_7', 'ib_var_8', 'ib_var_9', 'ib_var_10', 'ib_var_11', 'ib_var_13', 'ib_var_14', 'ib_var_15', 'ib_var_17', 'ib_var_18', 'ib_var_19', 'ib_var_20', 'ib_var_21', 'icn_var_23', 'icn_var_24', 'ico_var_26', 'ico_var_28', 'ico_var_30', 'ico_var_32', 'ico_var_33', 'ico_var_34', 'ico_var_36', 'ico_var_37', 'ico_var_39', 'ico_var_40', 'ico_var_43', 'ico_var_44', 'ico_var_45', 'ico_var_46', 'ico_var_48', 'ico_var_49', 'ico_var_50', 'ico_var_51', 'ico_var_53', 'ico_var_54', 'ico_var_55', 'ico_var_56', 'ico_var_57', 'ico_var_58', 'ico_var_60', 'ico_var_61', 'if_var_65', 'if_var_67', 'if_var_69', 'if_var_71', 'if_var_73', 'if_var_74', 'if_var_77', 'if_var_78', 'if_var_79']\n",
      "Grade: 9.864, KS: 0.416275797373, GINI: 0.553060795386\n",
      "['ib_var_2', 'ib_var_3', 'ib_var_4', 'ib_var_5', 'ib_var_6', 'ib_var_8', 'ib_var_10', 'ib_var_11', 'ib_var_13', 'ib_var_14', 'ib_var_15', 'ib_var_17', 'ib_var_18', 'ib_var_19', 'ib_var_20', 'ib_var_21', 'icn_var_22', 'icn_var_23', 'icn_var_24', 'ico_var_26', 'ico_var_28', 'ico_var_30', 'ico_var_32', 'ico_var_33', 'ico_var_34', 'ico_var_36', 'ico_var_37', 'ico_var_38', 'ico_var_39', 'ico_var_40', 'ico_var_42', 'ico_var_43', 'ico_var_44', 'ico_var_45', 'ico_var_48', 'ico_var_49', 'ico_var_50', 'ico_var_53', 'ico_var_54', 'ico_var_55', 'ico_var_56', 'ico_var_59', 'ico_var_60', 'ico_var_61', 'ico_var_64', 'if_var_65', 'if_var_66', 'if_var_67', 'if_var_69', 'if_var_70', 'if_var_71', 'if_var_73', 'if_var_74', 'if_var_76', 'if_var_77', 'if_var_78', 'if_var_79', 'if_var_80']\n",
      "sum_current_gini= 44.676069710981984 sum_current_gini_1= 44.655449380647994 sum_current_gini_2= 44.61545064457898\n",
      "loop  39\n",
      "Grade: 9.895, KS: 0.417588193976, GINI: 0.558504468618\n",
      "['ib_var_2', 'ib_var_4', 'ib_var_6', 'ib_var_8', 'ib_var_10', 'ib_var_11', 'ib_var_13', 'ib_var_14', 'ib_var_15', 'ib_var_16', 'ib_var_17', 'ib_var_18', 'ib_var_19', 'ib_var_20', 'ib_var_21', 'icn_var_22', 'icn_var_23', 'icn_var_24', 'ico_var_26', 'ico_var_28', 'ico_var_30', 'ico_var_32', 'ico_var_33', 'ico_var_34', 'ico_var_36', 'ico_var_37', 'ico_var_38', 'ico_var_39', 'ico_var_40', 'ico_var_42', 'ico_var_43', 'ico_var_44', 'ico_var_45', 'ico_var_48', 'ico_var_49', 'ico_var_50', 'ico_var_51', 'ico_var_53', 'ico_var_54', 'ico_var_55', 'ico_var_56', 'ico_var_57', 'ico_var_58', 'ico_var_60', 'ico_var_61', 'if_var_65', 'if_var_67', 'if_var_69', 'if_var_71', 'if_var_73', 'if_var_74', 'if_var_75', 'if_var_76', 'if_var_78', 'if_var_79', 'if_var_80']\n",
      "Grade: 9.971, KS: 0.420758278727, GINI: 0.559954343386\n",
      "['ib_var_1', 'ib_var_2', 'ib_var_3', 'ib_var_6', 'ib_var_7', 'ib_var_8', 'ib_var_9', 'ib_var_10', 'ib_var_11', 'ib_var_13', 'ib_var_14', 'ib_var_15', 'ib_var_17', 'ib_var_18', 'ib_var_19', 'ib_var_20', 'ib_var_21', 'icn_var_22', 'icn_var_23', 'icn_var_24', 'ico_var_26', 'ico_var_28', 'ico_var_30', 'ico_var_32', 'ico_var_33', 'ico_var_34', 'ico_var_36', 'ico_var_37', 'ico_var_39', 'ico_var_40', 'ico_var_43', 'ico_var_44', 'ico_var_45', 'ico_var_46', 'ico_var_48', 'ico_var_49', 'ico_var_50', 'ico_var_51', 'ico_var_53', 'ico_var_54', 'ico_var_55', 'ico_var_56', 'ico_var_57', 'ico_var_58', 'ico_var_60', 'ico_var_61', 'if_var_65', 'if_var_67', 'if_var_69', 'if_var_71', 'if_var_73', 'if_var_74', 'if_var_77', 'if_var_78', 'if_var_79', 'if_var_80']\n",
      "Grade: 9.949, KS: 0.419861782456, GINI: 0.55912485328\n",
      "['ib_var_2', 'ib_var_3', 'ib_var_4', 'ib_var_5', 'ib_var_7', 'ib_var_8', 'ib_var_10', 'ib_var_11', 'ib_var_12', 'ib_var_13', 'ib_var_14', 'ib_var_17', 'ib_var_18', 'ib_var_19', 'ib_var_20', 'ib_var_21', 'icn_var_22', 'icn_var_24', 'ico_var_26', 'ico_var_28', 'ico_var_30', 'ico_var_32', 'ico_var_33', 'ico_var_34', 'ico_var_35', 'ico_var_36', 'ico_var_37', 'ico_var_38', 'ico_var_39', 'ico_var_40', 'ico_var_43', 'ico_var_44', 'ico_var_45', 'ico_var_46', 'ico_var_48', 'ico_var_49', 'ico_var_50', 'ico_var_51', 'ico_var_53', 'ico_var_54', 'ico_var_55', 'ico_var_56', 'ico_var_57', 'ico_var_58', 'ico_var_61', 'ico_var_63', 'ico_var_64', 'if_var_65', 'if_var_66', 'if_var_67', 'if_var_69', 'if_var_71', 'if_var_73', 'if_var_74', 'if_var_75', 'if_var_78', 'if_var_79', 'if_var_80']\n"
     ]
    },
    {
     "ename": "KeyboardInterrupt",
     "evalue": "",
     "output_type": "error",
     "traceback": [
      "\u001b[1;31m---------------------------------------------------------------------------\u001b[0m",
      "\u001b[1;31mKeyboardInterrupt\u001b[0m                         Traceback (most recent call last)",
      "\u001b[1;32m<ipython-input-9-3ea1eb3e3b14>\u001b[0m in \u001b[0;36m<module>\u001b[1;34m\u001b[0m\n\u001b[0;32m    125\u001b[0m             \u001b[1;31m# BEST RANDOM FOREST CLASSIFIER\u001b[0m\u001b[1;33m\u001b[0m\u001b[1;33m\u001b[0m\u001b[1;33m\u001b[0m\u001b[0m\n\u001b[0;32m    126\u001b[0m             \u001b[0mRFC\u001b[0m \u001b[1;33m=\u001b[0m \u001b[0mRandomForestClassifier\u001b[0m\u001b[1;33m(\u001b[0m\u001b[0mn_estimators\u001b[0m\u001b[1;33m=\u001b[0m\u001b[1;36m10000\u001b[0m\u001b[1;33m,\u001b[0m \u001b[0moob_score\u001b[0m\u001b[1;33m=\u001b[0m\u001b[1;32mTrue\u001b[0m\u001b[1;33m,\u001b[0m \u001b[0mrandom_state\u001b[0m\u001b[1;33m=\u001b[0m\u001b[1;36m25\u001b[0m \u001b[1;33m,\u001b[0m\u001b[0mmax_features\u001b[0m\u001b[1;33m=\u001b[0m\u001b[1;34m'log2'\u001b[0m\u001b[1;33m,\u001b[0m \u001b[0mbootstrap\u001b[0m \u001b[1;33m=\u001b[0m \u001b[1;34m'True'\u001b[0m\u001b[1;33m,\u001b[0m \u001b[0mmin_samples_split\u001b[0m \u001b[1;33m=\u001b[0m \u001b[1;36m2\u001b[0m\u001b[1;33m,\u001b[0m \u001b[0mmin_samples_leaf\u001b[0m \u001b[1;33m=\u001b[0m \u001b[1;36m1\u001b[0m\u001b[1;33m,\u001b[0m \u001b[0mcriterion\u001b[0m \u001b[1;33m=\u001b[0m \u001b[1;34m'entropy'\u001b[0m\u001b[1;33m,\u001b[0m \u001b[0mn_jobs\u001b[0m\u001b[1;33m=\u001b[0m\u001b[1;36m5\u001b[0m\u001b[1;33m)\u001b[0m\u001b[1;33m\u001b[0m\u001b[1;33m\u001b[0m\u001b[0m\n\u001b[1;32m--> 127\u001b[1;33m             \u001b[0mmodel\u001b[0m \u001b[1;33m=\u001b[0m \u001b[0mRFC\u001b[0m\u001b[1;33m.\u001b[0m\u001b[0mfit\u001b[0m\u001b[1;33m(\u001b[0m\u001b[0mX_train\u001b[0m\u001b[1;33m,\u001b[0m \u001b[0mY_train\u001b[0m\u001b[1;33m)\u001b[0m\u001b[1;33m\u001b[0m\u001b[1;33m\u001b[0m\u001b[0m\n\u001b[0m\u001b[0;32m    128\u001b[0m             \u001b[0mY_predict\u001b[0m \u001b[1;33m=\u001b[0m \u001b[0mmodel\u001b[0m\u001b[1;33m.\u001b[0m\u001b[0mpredict_proba\u001b[0m\u001b[1;33m(\u001b[0m\u001b[0mXo\u001b[0m\u001b[1;33m)\u001b[0m\u001b[1;33m[\u001b[0m\u001b[1;33m:\u001b[0m\u001b[1;33m,\u001b[0m\u001b[1;36m1\u001b[0m\u001b[1;33m]\u001b[0m\u001b[1;33m\u001b[0m\u001b[1;33m\u001b[0m\u001b[0m\n\u001b[0;32m    129\u001b[0m \u001b[1;33m\u001b[0m\u001b[0m\n",
      "\u001b[1;32m~\\Anaconda3\\lib\\site-packages\\sklearn\\ensemble\\_forest.py\u001b[0m in \u001b[0;36mfit\u001b[1;34m(self, X, y, sample_weight)\u001b[0m\n\u001b[0;32m    381\u001b[0m                     \u001b[0mverbose\u001b[0m\u001b[1;33m=\u001b[0m\u001b[0mself\u001b[0m\u001b[1;33m.\u001b[0m\u001b[0mverbose\u001b[0m\u001b[1;33m,\u001b[0m \u001b[0mclass_weight\u001b[0m\u001b[1;33m=\u001b[0m\u001b[0mself\u001b[0m\u001b[1;33m.\u001b[0m\u001b[0mclass_weight\u001b[0m\u001b[1;33m,\u001b[0m\u001b[1;33m\u001b[0m\u001b[1;33m\u001b[0m\u001b[0m\n\u001b[0;32m    382\u001b[0m                     n_samples_bootstrap=n_samples_bootstrap)\n\u001b[1;32m--> 383\u001b[1;33m                 for i, t in enumerate(trees))\n\u001b[0m\u001b[0;32m    384\u001b[0m \u001b[1;33m\u001b[0m\u001b[0m\n\u001b[0;32m    385\u001b[0m             \u001b[1;31m# Collect newly grown trees\u001b[0m\u001b[1;33m\u001b[0m\u001b[1;33m\u001b[0m\u001b[1;33m\u001b[0m\u001b[0m\n",
      "\u001b[1;32m~\\Anaconda3\\lib\\site-packages\\joblib\\parallel.py\u001b[0m in \u001b[0;36m__call__\u001b[1;34m(self, iterable)\u001b[0m\n\u001b[0;32m   1015\u001b[0m \u001b[1;33m\u001b[0m\u001b[0m\n\u001b[0;32m   1016\u001b[0m             \u001b[1;32mwith\u001b[0m \u001b[0mself\u001b[0m\u001b[1;33m.\u001b[0m\u001b[0m_backend\u001b[0m\u001b[1;33m.\u001b[0m\u001b[0mretrieval_context\u001b[0m\u001b[1;33m(\u001b[0m\u001b[1;33m)\u001b[0m\u001b[1;33m:\u001b[0m\u001b[1;33m\u001b[0m\u001b[1;33m\u001b[0m\u001b[0m\n\u001b[1;32m-> 1017\u001b[1;33m                 \u001b[0mself\u001b[0m\u001b[1;33m.\u001b[0m\u001b[0mretrieve\u001b[0m\u001b[1;33m(\u001b[0m\u001b[1;33m)\u001b[0m\u001b[1;33m\u001b[0m\u001b[1;33m\u001b[0m\u001b[0m\n\u001b[0m\u001b[0;32m   1018\u001b[0m             \u001b[1;31m# Make sure that we get a last message telling us we are done\u001b[0m\u001b[1;33m\u001b[0m\u001b[1;33m\u001b[0m\u001b[1;33m\u001b[0m\u001b[0m\n\u001b[0;32m   1019\u001b[0m             \u001b[0melapsed_time\u001b[0m \u001b[1;33m=\u001b[0m \u001b[0mtime\u001b[0m\u001b[1;33m.\u001b[0m\u001b[0mtime\u001b[0m\u001b[1;33m(\u001b[0m\u001b[1;33m)\u001b[0m \u001b[1;33m-\u001b[0m \u001b[0mself\u001b[0m\u001b[1;33m.\u001b[0m\u001b[0m_start_time\u001b[0m\u001b[1;33m\u001b[0m\u001b[1;33m\u001b[0m\u001b[0m\n",
      "\u001b[1;32m~\\Anaconda3\\lib\\site-packages\\joblib\\parallel.py\u001b[0m in \u001b[0;36mretrieve\u001b[1;34m(self)\u001b[0m\n\u001b[0;32m    907\u001b[0m             \u001b[1;32mtry\u001b[0m\u001b[1;33m:\u001b[0m\u001b[1;33m\u001b[0m\u001b[1;33m\u001b[0m\u001b[0m\n\u001b[0;32m    908\u001b[0m                 \u001b[1;32mif\u001b[0m \u001b[0mgetattr\u001b[0m\u001b[1;33m(\u001b[0m\u001b[0mself\u001b[0m\u001b[1;33m.\u001b[0m\u001b[0m_backend\u001b[0m\u001b[1;33m,\u001b[0m \u001b[1;34m'supports_timeout'\u001b[0m\u001b[1;33m,\u001b[0m \u001b[1;32mFalse\u001b[0m\u001b[1;33m)\u001b[0m\u001b[1;33m:\u001b[0m\u001b[1;33m\u001b[0m\u001b[1;33m\u001b[0m\u001b[0m\n\u001b[1;32m--> 909\u001b[1;33m                     \u001b[0mself\u001b[0m\u001b[1;33m.\u001b[0m\u001b[0m_output\u001b[0m\u001b[1;33m.\u001b[0m\u001b[0mextend\u001b[0m\u001b[1;33m(\u001b[0m\u001b[0mjob\u001b[0m\u001b[1;33m.\u001b[0m\u001b[0mget\u001b[0m\u001b[1;33m(\u001b[0m\u001b[0mtimeout\u001b[0m\u001b[1;33m=\u001b[0m\u001b[0mself\u001b[0m\u001b[1;33m.\u001b[0m\u001b[0mtimeout\u001b[0m\u001b[1;33m)\u001b[0m\u001b[1;33m)\u001b[0m\u001b[1;33m\u001b[0m\u001b[1;33m\u001b[0m\u001b[0m\n\u001b[0m\u001b[0;32m    910\u001b[0m                 \u001b[1;32melse\u001b[0m\u001b[1;33m:\u001b[0m\u001b[1;33m\u001b[0m\u001b[1;33m\u001b[0m\u001b[0m\n\u001b[0;32m    911\u001b[0m                     \u001b[0mself\u001b[0m\u001b[1;33m.\u001b[0m\u001b[0m_output\u001b[0m\u001b[1;33m.\u001b[0m\u001b[0mextend\u001b[0m\u001b[1;33m(\u001b[0m\u001b[0mjob\u001b[0m\u001b[1;33m.\u001b[0m\u001b[0mget\u001b[0m\u001b[1;33m(\u001b[0m\u001b[1;33m)\u001b[0m\u001b[1;33m)\u001b[0m\u001b[1;33m\u001b[0m\u001b[1;33m\u001b[0m\u001b[0m\n",
      "\u001b[1;32m~\\Anaconda3\\lib\\multiprocessing\\pool.py\u001b[0m in \u001b[0;36mget\u001b[1;34m(self, timeout)\u001b[0m\n\u001b[0;32m    649\u001b[0m \u001b[1;33m\u001b[0m\u001b[0m\n\u001b[0;32m    650\u001b[0m     \u001b[1;32mdef\u001b[0m \u001b[0mget\u001b[0m\u001b[1;33m(\u001b[0m\u001b[0mself\u001b[0m\u001b[1;33m,\u001b[0m \u001b[0mtimeout\u001b[0m\u001b[1;33m=\u001b[0m\u001b[1;32mNone\u001b[0m\u001b[1;33m)\u001b[0m\u001b[1;33m:\u001b[0m\u001b[1;33m\u001b[0m\u001b[1;33m\u001b[0m\u001b[0m\n\u001b[1;32m--> 651\u001b[1;33m         \u001b[0mself\u001b[0m\u001b[1;33m.\u001b[0m\u001b[0mwait\u001b[0m\u001b[1;33m(\u001b[0m\u001b[0mtimeout\u001b[0m\u001b[1;33m)\u001b[0m\u001b[1;33m\u001b[0m\u001b[1;33m\u001b[0m\u001b[0m\n\u001b[0m\u001b[0;32m    652\u001b[0m         \u001b[1;32mif\u001b[0m \u001b[1;32mnot\u001b[0m \u001b[0mself\u001b[0m\u001b[1;33m.\u001b[0m\u001b[0mready\u001b[0m\u001b[1;33m(\u001b[0m\u001b[1;33m)\u001b[0m\u001b[1;33m:\u001b[0m\u001b[1;33m\u001b[0m\u001b[1;33m\u001b[0m\u001b[0m\n\u001b[0;32m    653\u001b[0m             \u001b[1;32mraise\u001b[0m \u001b[0mTimeoutError\u001b[0m\u001b[1;33m\u001b[0m\u001b[1;33m\u001b[0m\u001b[0m\n",
      "\u001b[1;32m~\\Anaconda3\\lib\\multiprocessing\\pool.py\u001b[0m in \u001b[0;36mwait\u001b[1;34m(self, timeout)\u001b[0m\n\u001b[0;32m    646\u001b[0m \u001b[1;33m\u001b[0m\u001b[0m\n\u001b[0;32m    647\u001b[0m     \u001b[1;32mdef\u001b[0m \u001b[0mwait\u001b[0m\u001b[1;33m(\u001b[0m\u001b[0mself\u001b[0m\u001b[1;33m,\u001b[0m \u001b[0mtimeout\u001b[0m\u001b[1;33m=\u001b[0m\u001b[1;32mNone\u001b[0m\u001b[1;33m)\u001b[0m\u001b[1;33m:\u001b[0m\u001b[1;33m\u001b[0m\u001b[1;33m\u001b[0m\u001b[0m\n\u001b[1;32m--> 648\u001b[1;33m         \u001b[0mself\u001b[0m\u001b[1;33m.\u001b[0m\u001b[0m_event\u001b[0m\u001b[1;33m.\u001b[0m\u001b[0mwait\u001b[0m\u001b[1;33m(\u001b[0m\u001b[0mtimeout\u001b[0m\u001b[1;33m)\u001b[0m\u001b[1;33m\u001b[0m\u001b[1;33m\u001b[0m\u001b[0m\n\u001b[0m\u001b[0;32m    649\u001b[0m \u001b[1;33m\u001b[0m\u001b[0m\n\u001b[0;32m    650\u001b[0m     \u001b[1;32mdef\u001b[0m \u001b[0mget\u001b[0m\u001b[1;33m(\u001b[0m\u001b[0mself\u001b[0m\u001b[1;33m,\u001b[0m \u001b[0mtimeout\u001b[0m\u001b[1;33m=\u001b[0m\u001b[1;32mNone\u001b[0m\u001b[1;33m)\u001b[0m\u001b[1;33m:\u001b[0m\u001b[1;33m\u001b[0m\u001b[1;33m\u001b[0m\u001b[0m\n",
      "\u001b[1;32m~\\Anaconda3\\lib\\threading.py\u001b[0m in \u001b[0;36mwait\u001b[1;34m(self, timeout)\u001b[0m\n\u001b[0;32m    550\u001b[0m             \u001b[0msignaled\u001b[0m \u001b[1;33m=\u001b[0m \u001b[0mself\u001b[0m\u001b[1;33m.\u001b[0m\u001b[0m_flag\u001b[0m\u001b[1;33m\u001b[0m\u001b[1;33m\u001b[0m\u001b[0m\n\u001b[0;32m    551\u001b[0m             \u001b[1;32mif\u001b[0m \u001b[1;32mnot\u001b[0m \u001b[0msignaled\u001b[0m\u001b[1;33m:\u001b[0m\u001b[1;33m\u001b[0m\u001b[1;33m\u001b[0m\u001b[0m\n\u001b[1;32m--> 552\u001b[1;33m                 \u001b[0msignaled\u001b[0m \u001b[1;33m=\u001b[0m \u001b[0mself\u001b[0m\u001b[1;33m.\u001b[0m\u001b[0m_cond\u001b[0m\u001b[1;33m.\u001b[0m\u001b[0mwait\u001b[0m\u001b[1;33m(\u001b[0m\u001b[0mtimeout\u001b[0m\u001b[1;33m)\u001b[0m\u001b[1;33m\u001b[0m\u001b[1;33m\u001b[0m\u001b[0m\n\u001b[0m\u001b[0;32m    553\u001b[0m             \u001b[1;32mreturn\u001b[0m \u001b[0msignaled\u001b[0m\u001b[1;33m\u001b[0m\u001b[1;33m\u001b[0m\u001b[0m\n\u001b[0;32m    554\u001b[0m \u001b[1;33m\u001b[0m\u001b[0m\n",
      "\u001b[1;32m~\\Anaconda3\\lib\\threading.py\u001b[0m in \u001b[0;36mwait\u001b[1;34m(self, timeout)\u001b[0m\n\u001b[0;32m    294\u001b[0m         \u001b[1;32mtry\u001b[0m\u001b[1;33m:\u001b[0m    \u001b[1;31m# restore state no matter what (e.g., KeyboardInterrupt)\u001b[0m\u001b[1;33m\u001b[0m\u001b[1;33m\u001b[0m\u001b[0m\n\u001b[0;32m    295\u001b[0m             \u001b[1;32mif\u001b[0m \u001b[0mtimeout\u001b[0m \u001b[1;32mis\u001b[0m \u001b[1;32mNone\u001b[0m\u001b[1;33m:\u001b[0m\u001b[1;33m\u001b[0m\u001b[1;33m\u001b[0m\u001b[0m\n\u001b[1;32m--> 296\u001b[1;33m                 \u001b[0mwaiter\u001b[0m\u001b[1;33m.\u001b[0m\u001b[0macquire\u001b[0m\u001b[1;33m(\u001b[0m\u001b[1;33m)\u001b[0m\u001b[1;33m\u001b[0m\u001b[1;33m\u001b[0m\u001b[0m\n\u001b[0m\u001b[0;32m    297\u001b[0m                 \u001b[0mgotit\u001b[0m \u001b[1;33m=\u001b[0m \u001b[1;32mTrue\u001b[0m\u001b[1;33m\u001b[0m\u001b[1;33m\u001b[0m\u001b[0m\n\u001b[0;32m    298\u001b[0m             \u001b[1;32melse\u001b[0m\u001b[1;33m:\u001b[0m\u001b[1;33m\u001b[0m\u001b[1;33m\u001b[0m\u001b[0m\n",
      "\u001b[1;31mKeyboardInterrupt\u001b[0m: "
     ]
    }
   ],
   "source": [
    "\n",
    "#SETING UP THE GENETIC ALGORITHM and CALCULATING STARTING POOL (STARTING CANDIDATE POPULATION)\n",
    "creator.create(\"FitnessMax\", base.Fitness, weights=(1.0,))\n",
    "creator.create(\"Individual\", list, fitness=creator.FitnessMax)\n",
    "toolbox = base.Toolbox()\n",
    "toolbox.register(\"attr_bool\", random.randint, 0, 1)\n",
    "toolbox.register(\"individual\", tools.initRepeat, creator.Individual, toolbox.attr_bool, n=len(list(in_model)))\n",
    "toolbox.register(\"population\", tools.initRepeat, list, toolbox.individual)\n",
    "def evalOneMax(individual):\n",
    "    return sum(individual),\n",
    "\n",
    "toolbox.register(\"evaluate\", evalOneMax)\n",
    "toolbox.register(\"mate\", tools.cxTwoPoint)\n",
    "toolbox.register(\"mutate\", tools.mutFlipBit, indpb=0.05)\n",
    "toolbox.register(\"select\", tools.selTournament, tournsize=3)\n",
    "\n",
    "NPOPSIZE = 80 \n",
    "population = toolbox.population(n=NPOPSIZE)\n",
    "\n",
    "\n",
    "#ASSESSING GINI ON THE STARTING POOL\n",
    "\n",
    "dic_gini={}\n",
    "for i in range(np.shape(population)[0]): \n",
    "\n",
    "    # TRASLATING DNA INTO LIST OF VARIABLES (1-81)\n",
    "    var_model = []    \n",
    "    for j in range(np.shape(population)[0]): \n",
    "        if (population[i])[j]==1:\n",
    "            var_model.append(list(list(in_model))[j])\n",
    "\n",
    "    # ASSESSING GINI INDEX FOR EACH INVIVIDUAL IN THE INITIAL POOL \n",
    "            \n",
    "    X_train=df[var_model]\n",
    "    Y_train=df[output_var]\n",
    "    Xo = dfo[var_model]\n",
    "    # Imputing NaN values OOT\n",
    "    imp = SimpleImputer(strategy='mean')\n",
    "    imp.fit(Xo)\n",
    "    Xo = imp.transform(Xo)\n",
    "\n",
    "    # BEST RANDOM FOREST CLASSIFIER\n",
    "\n",
    "    RFC = RandomForestClassifier(n_estimators=10000, oob_score=True, random_state= 25 ,max_features='log2', bootstrap = 'True', min_samples_split = 2, min_samples_leaf = 1, criterion = 'entropy', n_jobs=5)\n",
    "    model = RFC.fit(X_train, Y_train)  \n",
    "    Y_predict = model.predict_proba(Xo)[:,1]\n",
    "\n",
    "    # OOT Prediction\n",
    "    dfo['pred'] = Y_predict\n",
    "    dfo_tosend = dfo[list(['id','pred'])]\n",
    "\n",
    "    # Submission\n",
    "    iteration=1\n",
    "    filename = \"student_sub\"+str(iteration)+\".csv\"\n",
    "    dfo_tosend.to_csv(filename, sep=',')\n",
    "    url = 'http://mfalonso.pythonanywhere.com/api/v1.0/uploadpredictions'\n",
    "    files = {'file': (filename, open(filename, 'rb'))}\n",
    "    rsub = requests.post(url, files=files, auth=HTTPBasicAuth('Diego.Cuartas', 'Cuartas3458!'))\n",
    "    resp_str = str(rsub.text)\n",
    "    time.sleep(20)\n",
    "\n",
    "    # Results\n",
    "    KS_GINI_GRADE_OOT = resp_str.replace(' ','').replace('KS2=','').replace ('GINI=','').replace ('RESULTSUBMISSION:','').replace ('GRADE=','').split(';')\n",
    "    KS_OOT = float(KS_GINI_GRADE_OOT[0])\n",
    "    GINI_OOT = float(KS_GINI_GRADE_OOT[1])\n",
    "    GRADE = float(KS_GINI_GRADE_OOT[2])\n",
    "\n",
    "    if GRADE > 9.8:\n",
    "        print(\"Grade: \" + str(GRADE) + \", KS: \" + str(KS_OOT) + \", GINI: \" + str(GINI_OOT))\n",
    "        print(var_model)\n",
    "\n",
    "                        \n",
    "    gini_power = GINI_OOT         \n",
    "    \n",
    "    gini=str(gini_power)+\";\"+str(population[i]).replace('[','').replace(', ','').replace(']','')\n",
    "    dic_gini[gini]=population[i]   \n",
    "    \n",
    "list_gini=sorted(dic_gini.keys(),reverse=True)\n",
    "\n",
    "\n",
    "#GENETIC ALGORITHM MAIN LOOP - START\n",
    "# - ITERATING MANY TIMES UNTIL NO IMPROVMENT HAPPENS IN ORDER TO FIND THE OPTIMAL SET OF CHARACTERISTICS (VARIABLES)\n",
    "\n",
    "sum_current_gini=0.0\n",
    "sum_current_gini_1=0.0\n",
    "sum_current_gini_2=0.0\n",
    "first=0    \n",
    "OK = 1\n",
    "a=0\n",
    "while OK:  #REPEAT UNTIL IT DO NOT IMPROVE, AT LEAST A LITLE, THE GINI IN 2 GENERATIONS\n",
    "    a=a+1\n",
    "    print ('loop ', a)\n",
    "    OK=0\n",
    "\n",
    "    # GENERATING OFFSPRING - START\n",
    "    offspring = algorithms.varAnd(population, toolbox, cxpb=0.5, mutpb=0.1) #CROSS-X PROBABILITY = 50%, MUTATION PROBABILITY=10%\n",
    "    fits = toolbox.map(toolbox.evaluate, offspring)\n",
    "    for fit, ind in zip(fits, offspring):\n",
    "        ind.fitness.values = fit\n",
    "    population =toolbox.select(offspring, k=len(population))\n",
    "    # GENERATING OFFSPRING - END\n",
    "\n",
    "    sum_current_gini_2=sum_current_gini_1\n",
    "    sum_current_gini_1=sum_current_gini\n",
    "    sum_current_gini=0.0\n",
    "\n",
    "    #ASSESSING GINI ON THE OFFSPRING - START\n",
    "\n",
    "    for j in range(np.shape(population)[0]): \n",
    "        if population[j] not in dic_gini.values(): \n",
    "            var_model = [] \n",
    "            for i in range(np.shape(population)[0]): \n",
    "                if (population[j])[i]==1:\n",
    "                    var_model.append(list(list(in_model))[i])\n",
    "                    \n",
    "            \n",
    "            X_train=df[var_model]\n",
    "            Y_train=df[output_var]\n",
    "            Xo = dfo[var_model]\n",
    "            # Imputing NaN values OOT\n",
    "            imp = SimpleImputer(strategy='mean')\n",
    "            imp.fit(Xo)\n",
    "            Xo = imp.transform(Xo)\n",
    "            \n",
    "       \n",
    "            # BEST RANDOM FOREST CLASSIFIER\n",
    "            RFC = RandomForestClassifier(n_estimators=10000, oob_score=True, random_state=25 ,max_features='log2', bootstrap = 'True', min_samples_split = 2, min_samples_leaf = 1, criterion = 'entropy', n_jobs=5)\n",
    "            model = RFC.fit(X_train, Y_train)  \n",
    "            Y_predict = model.predict_proba(Xo)[:,1]\n",
    "\n",
    "            # OOT Prediction\n",
    "            dfo['pred'] = Y_predict\n",
    "            dfo_tosend = dfo[list(['id','pred'])]\n",
    "\n",
    "            # Submission\n",
    "            iteration=1\n",
    "            filename = \"student_sub\"+str(iteration)+\".csv\"\n",
    "            dfo_tosend.to_csv(filename, sep=',')\n",
    "            url = 'http://mfalonso.pythonanywhere.com/api/v1.0/uploadpredictions'\n",
    "            files = {'file': (filename, open(filename, 'rb'))}\n",
    "            rsub = requests.post(url, files=files, auth=HTTPBasicAuth('Diego.Cuartas', 'Cuartas3458!'))\n",
    "            resp_str = str(rsub.text)\n",
    "            time.sleep(20)\n",
    "\n",
    "            # Results\n",
    "            KS_GINI_GRADE_OOT = resp_str.replace(' ','').replace('KS2=','').replace ('GINI=','').replace ('RESULTSUBMISSION:','').replace ('GRADE=','').split(';')\n",
    "            KS_OOT = float(KS_GINI_GRADE_OOT[0])\n",
    "            GINI_OOT = float(KS_GINI_GRADE_OOT[1])\n",
    "            GRADE = float(KS_GINI_GRADE_OOT[2])\n",
    "\n",
    "            if GRADE > 9.8:\n",
    "                print(\"Grade: \" + str(GRADE) + \", KS: \" + str(KS_OOT) + \", GINI: \" + str(GINI_OOT))\n",
    "                print(var_model)\n",
    "          \n",
    "            gini_power = GINI_OOT  \n",
    "\n",
    "            gini=str(gini_power)+\";\"+str(population[j]).replace('[','').replace(', ','').replace(']','')\n",
    "            dic_gini[gini]=population[j]  \n",
    "\n",
    "    #ASSESSING GINI ON THE OFFSPRING - END\n",
    "\n",
    "    #SELECTING THE BEST FITTED AMONG ALL EVER CREATED POPULATION AND CURRENT OFFSPRING - START\n",
    "         \n",
    "    list_gini=sorted(dic_gini.keys(),reverse=True)\n",
    "    population=[]\n",
    "    for i in list_gini[:NPOPSIZE]:\n",
    "        population.append(dic_gini[i])\n",
    "        gini=float(i.split(';')[0])\n",
    "        sum_current_gini+=gini\n",
    "        \n",
    "    #SELECTING THE BEST FITTED AMONG ALL EVER CREATED POPULATION AND CURRENT OFFSPRING - END     \n",
    "      \n",
    "    #HAS IT IMPROVED AT LEAST A LITLE THE GINI IN THE LAST 2 GENERATIONS\n",
    "    print ('sum_current_gini=', sum_current_gini, 'sum_current_gini_1=', sum_current_gini_1, 'sum_current_gini_2=', sum_current_gini_2)\n",
    "    if(sum_current_gini>sum_current_gini_1+0.0001 or sum_current_gini>sum_current_gini_2+0.0001):\n",
    "        OK=1\n",
    "\n",
    "#GENETIC ALGORITHM MAIN LOOP - END\n",
    "\n",
    "gini_max=list_gini[0]        \n",
    "gini=float(gini_max.split(';')[0])\n",
    "features=gini_max.split(';')[1]\n",
    "\n",
    "# PRINTING OUT THE LIST OF FEATURES\n",
    "f=0\n",
    "for i in range(len(features)):\n",
    "    if features[i]=='1':\n",
    "        f+=1\n",
    "        print ('feature ', f, ':', list(list(in_model))[i])\n",
    "print ('gini: ', gini)\n"
   ]
  },
  {
   "cell_type": "markdown",
   "metadata": {},
   "source": [
    "### Final Model with GA Feature Selection"
   ]
  },
  {
   "cell_type": "code",
   "execution_count": 18,
   "metadata": {},
   "outputs": [],
   "source": [
    "final_variables = ['ib_var_2', 'ib_var_3', 'ib_var_6', 'ib_var_7', 'ib_var_8', 'ib_var_9', 'ib_var_10', 'ib_var_11', 'ib_var_12', 'ib_var_13', 'ib_var_14', 'ib_var_15', 'ib_var_17', 'ib_var_18', 'ib_var_19', 'ib_var_20', 'ib_var_21', 'icn_var_22', 'icn_var_23', 'icn_var_24', 'ico_var_26', 'ico_var_28', 'ico_var_30', 'ico_var_32', 'ico_var_33', 'ico_var_34', 'ico_var_35', 'ico_var_36', 'ico_var_37', 'ico_var_38', 'ico_var_39', 'ico_var_40', 'ico_var_43', 'ico_var_44', 'ico_var_45', 'ico_var_46', 'ico_var_48', 'ico_var_49', 'ico_var_51', 'ico_var_53', 'ico_var_54', 'ico_var_55', 'ico_var_56', 'ico_var_57', 'ico_var_58', 'ico_var_61', 'ico_var_63', 'ico_var_64', 'if_var_65', 'if_var_66', 'if_var_67', 'if_var_69', 'if_var_72', 'if_var_73', 'if_var_74', 'if_var_77', 'if_var_78', 'if_var_79', 'if_var_80']\n",
    "output_var = 'ob_target'\n",
    "\n",
    "X = df[final_variables]\n",
    "y = df[output_var]\n",
    "Xo = dfo[final_variables]\n",
    "\n",
    "# Imputing NaN values OOT\n",
    "imp = SimpleImputer(strategy='mean')\n",
    "imp.fit(Xo)\n",
    "Xo = imp.transform(Xo)\n",
    "\n",
    "Final_Model= RandomForestClassifier(n_estimators=10000, oob_score=True, random_state=25 ,max_features='log2', bootstrap = 'True', min_samples_split = 2, min_samples_leaf = 1, criterion = 'entropy', n_jobs=5)\n",
    "Final_Model.fit(X,y)\n",
    "pred_dev = Final_Model.predict_proba(X)[:,1]\n",
    "pred_oot = Final_Model.predict_proba(Xo)[:,1]"
   ]
  },
  {
   "cell_type": "markdown",
   "metadata": {},
   "source": [
    "#### Model Evaluation"
   ]
  },
  {
   "cell_type": "code",
   "execution_count": 19,
   "metadata": {},
   "outputs": [
    {
     "name": "stdout",
     "output_type": "stream",
     "text": [
      "GINI DEVELOPMENT= 1.0\n",
      "KS DEVELOPMENT= 0.9999999999999971\n"
     ]
    }
   ],
   "source": [
    "# CALCULATING GINI PERFORMANCE ON DEVELOPMENT SAMPLE\n",
    "from sklearn.metrics import roc_auc_score\n",
    "gini_score = 2*roc_auc_score(y, pred_dev)-1\n",
    "print (\"GINI DEVELOPMENT=\", gini_score)\n",
    "\n",
    "def KS(b,a):  \n",
    "    \"\"\"Function that received two parameters; first: a binary variable representing 0=good and 1=bad, \n",
    "    and then a second variable with the prediction of the first variable, the second variable can be continuous, \n",
    "    integer or binary - continuous is better. Finally, the function returns the KS Statistics of the two lists.\"\"\"\n",
    "    try:\n",
    "        tot_bads=1.0*sum(b)\n",
    "        tot_goods=1.0*(len(b)-tot_bads)\n",
    "        elements = zip(*[a,b])\n",
    "        elements = sorted(elements,key= lambda x: x[0])\n",
    "        elements_df = pd.DataFrame({'probability': b,'gbi': a})\n",
    "        pivot_elements_df = pd.pivot_table(elements_df, values='probability', index=['gbi'], aggfunc=[sum,len]).fillna(0)\n",
    "        max_ks = perc_goods = perc_bads = cum_perc_bads = cum_perc_goods = 0\n",
    "        for i in range(len(pivot_elements_df)):\n",
    "            perc_goods =  (pivot_elements_df.iloc[i]['len'] - pivot_elements_df.iloc[i]['sum']) / tot_goods\n",
    "            perc_bads = pivot_elements_df.iloc[i]['sum']/ tot_bads\n",
    "            cum_perc_goods += perc_goods\n",
    "            cum_perc_bads += perc_bads\n",
    "            A = cum_perc_bads-cum_perc_goods\n",
    "            if abs(A['probability']) > max_ks:\n",
    "                max_ks = abs(A['probability'])\n",
    "    except:\n",
    "        max_ks = 0\n",
    "    return max_ks\n",
    "\n",
    "\n",
    "KS_score = KS(y,pred_dev)\n",
    "print (\"KS DEVELOPMENT=\", KS_score) "
   ]
  },
  {
   "cell_type": "markdown",
   "metadata": {},
   "source": [
    "### Submit Predictions"
   ]
  },
  {
   "cell_type": "code",
   "execution_count": 20,
   "metadata": {},
   "outputs": [
    {
     "name": "stdout",
     "output_type": "stream",
     "text": [
      "RESULT SUBMISSION:  KS2 = 0.425513405854; GINI = 0.560239; GRADE = 10.0\n"
     ]
    }
   ],
   "source": [
    "# OOT Predictions\n",
    "dfo['pred'] = pred_oot\n",
    "dfo_tosend = dfo[list(['id','pred'])]\n",
    "\n",
    "i=1\n",
    "filename = \"student_sub\"+str(i)+\".csv\"\n",
    "dfo_tosend.to_csv(filename, sep=',')\n",
    "\n",
    "url = 'http://mfalonso.pythonanywhere.com/api/v1.0/uploadpredictions'\n",
    "\n",
    "files = {'file': (filename, open(filename, 'rb'))}\n",
    "rsub = requests.post(url, files=files, auth=HTTPBasicAuth('Diego.Cuartas', 'Cuartas3458!'))\n",
    "\n",
    "resp_str = str(rsub.text)\n",
    "print (\"RESULT SUBMISSION: \", resp_str)"
   ]
  },
  {
   "cell_type": "code",
   "execution_count": null,
   "metadata": {},
   "outputs": [],
   "source": []
  }
 ],
 "metadata": {
  "kernelspec": {
   "display_name": "Python 3",
   "language": "python",
   "name": "python3"
  },
  "language_info": {
   "codemirror_mode": {
    "name": "ipython",
    "version": 3
   },
   "file_extension": ".py",
   "mimetype": "text/x-python",
   "name": "python",
   "nbconvert_exporter": "python",
   "pygments_lexer": "ipython3",
   "version": "3.7.6"
  },
  "toc": {
   "base_numbering": 1,
   "nav_menu": {},
   "number_sections": true,
   "sideBar": true,
   "skip_h1_title": false,
   "title_cell": "Table of Contents",
   "title_sidebar": "Contents",
   "toc_cell": false,
   "toc_position": {},
   "toc_section_display": true,
   "toc_window_display": false
  }
 },
 "nbformat": 4,
 "nbformat_minor": 2
}
